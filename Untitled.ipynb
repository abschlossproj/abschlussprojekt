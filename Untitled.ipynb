{
 "cells": [
  {
   "cell_type": "code",
   "execution_count": 5,
   "metadata": {},
   "outputs": [
    {
     "name": "stdout",
     "output_type": "stream",
     "text": [
      "Do You wish to run a specific scenario [enter] or calculate all possible 27 scenarios ?\n",
      "For the latter, please put in: \n",
      " the desired people that start out infected - m = (1, 5, 10)\n",
      "the contacts per person - k = (5, 10, 20)\n",
      "the probability of transmission per contact and day - p = (.10, .25, .50):\n"
     ]
    },
    {
     "name": "stdin",
     "output_type": "stream",
     "text": [
      "(m, k, p) 210109290323492904901249801238932149802134809\n"
     ]
    },
    {
     "name": "stdout",
     "output_type": "stream",
     "text": [
      "Exception\n"
     ]
    }
   ],
   "source": [
    "print('Do You wish to run a specific scenario [enter] or calculate all possible 27 scenarios ?') \n",
    "print('For the latter, please put in: \\n the desired people that start out infected - m = (1, 5, 10)\\nthe contacts per person - k = (5, 10, 20)\\nthe probability of transmission per contact and day - p = (.10, .25, .50):')\n",
    "try:\n",
    "    inp = input('(m, k, p)')\n",
    "    m, k, p = tuple(int(x) for x in inp.split(\",\"))\n",
    "    print(f'you typed in m {m}, k {k} and p {p}')\n",
    "except:\n",
    "    print('Exception')"
   ]
  },
  {
   "cell_type": "code",
   "execution_count": null,
   "metadata": {},
   "outputs": [
    {
     "name": "stdout",
     "output_type": "stream",
     "text": [
      "loading \\"
     ]
    }
   ],
   "source": [
    "import itertools\n",
    "import threading\n",
    "import time\n",
    "import sys\n",
    "\n",
    "done = False\n",
    "#here is the animation\n",
    "def animate():\n",
    "    for c in itertools.cycle(['|', '/', '-', '\\\\']):\n",
    "        if done:\n",
    "            break\n",
    "        sys.stdout.write('\\rloading ' + c)\n",
    "        sys.stdout.flush()\n",
    "        time.sleep(0.1)\n",
    "    sys.stdout.write('\\rDone!     ')\n",
    "\n",
    "t = threading.Thread(target=animate)\n",
    "t.start()\n",
    "\n",
    "#long process here\n",
    "time.sleep(10000)\n",
    "done = True"
   ]
  },
  {
   "cell_type": "code",
   "execution_count": null,
   "metadata": {},
   "outputs": [],
   "source": []
  }
 ],
 "metadata": {
  "kernelspec": {
   "display_name": "Python 3",
   "language": "python",
   "name": "python3"
  },
  "language_info": {
   "codemirror_mode": {
    "name": "ipython",
    "version": 3
   },
   "file_extension": ".py",
   "mimetype": "text/x-python",
   "name": "python",
   "nbconvert_exporter": "python",
   "pygments_lexer": "ipython3",
   "version": "3.8.3"
  }
 },
 "nbformat": 4,
 "nbformat_minor": 4
}
